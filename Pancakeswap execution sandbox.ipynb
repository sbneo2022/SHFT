{
 "cells": [
  {
   "cell_type": "code",
   "execution_count": 1,
   "id": "68248447",
   "metadata": {},
   "outputs": [],
   "source": [
    "from decimal import Decimal\n",
    "\n",
    "from tools.pancake.lib.cex import Cex\n",
    "from tools.pancake.lib.dex import Dex\n",
    "from tools.pancake.lib.execution import Execution\n",
    "\n",
    "from tools.pancake.lib.constants import KEY, CASE_1, CASE_2\n",
    "from loguru import logger\n",
    "from deepmerge import Merger\n",
    "from tools.pancake.lib.chain_config import get_config"
   ]
  },
  {
   "cell_type": "code",
   "execution_count": 2,
   "id": "c806e370",
   "metadata": {},
   "outputs": [],
   "source": [
    "%load_ext lab_black"
   ]
  },
  {
   "cell_type": "code",
   "execution_count": 3,
   "id": "2ac86d32",
   "metadata": {},
   "outputs": [],
   "source": [
    "config = {}\n",
    "\n",
    "merger = Merger([(list, \"override\"), (dict, \"merge\")], [\"override\"], [\"override\"])\n",
    "for add in [\"config.yaml\", \"yaml/bot/spread_arbitrage.yaml\", \"secrets.yaml\"]:\n",
    "    config = merger.merge(config, get_config(\"/Users/mdarblade/code/bhft/\" + add))"
   ]
  },
  {
   "cell_type": "markdown",
   "id": "ae4e2493",
   "metadata": {},
   "source": [
    "TODO:\n",
    "- [X] Add lock file for already executed pairs\n",
    "- [ ] Need to add local nonce update"
   ]
  },
  {
   "cell_type": "code",
   "execution_count": 4,
   "id": "adb4e2cb",
   "metadata": {},
   "outputs": [],
   "source": [
    "self = Execution(config)"
   ]
  },
  {
   "cell_type": "code",
   "execution_count": null,
   "id": "4f74936a",
   "metadata": {},
   "outputs": [],
   "source": [
    "report = {\n",
    "            \"capital\": Decimal(\"0.1\"),\n",
    "            \"pair\": \"XVS-BNB\",\n",
    "            \"case\": Case.ONE,\n",
    "            \"steps\": {\n",
    "                \"1. we_got_base\": Decimal(\"8.079189438215428449522425809\"),\n",
    "                \"2. we_received_on_bidask\": Decimal(\"8.079189438215428449522425809\"),\n",
    "                \"3. we_got_quote\": Decimal(\"0.5000746963074014936167046613\"),\n",
    "                \"4. output\": Decimal(\"0.5000746963074014936167046613\"),\n",
    "            },\n",
    "            \"roc\": Decimal(\"0.000149392614802987233409323\"),\n",
    "        }"
   ]
  },
  {
   "cell_type": "code",
   "execution_count": null,
   "id": "53e8f8e1",
   "metadata": {},
   "outputs": [],
   "source": [
    "self.test_report_case_1()"
   ]
  },
  {
   "cell_type": "code",
   "execution_count": null,
   "id": "f8605cc1",
   "metadata": {},
   "outputs": [],
   "source": [
    "\"BNB\"->XVS"
   ]
  },
  {
   "cell_type": "code",
   "execution_count": null,
   "id": "d2972cff",
   "metadata": {},
   "outputs": [],
   "source": [
    "CEX : sell atom -> BNB. BNB (binance)"
   ]
  },
  {
   "cell_type": "code",
   "execution_count": null,
   "id": "55dd1f3e",
   "metadata": {},
   "outputs": [],
   "source": []
  },
  {
   "cell_type": "code",
   "execution_count": null,
   "id": "9f6d7080",
   "metadata": {},
   "outputs": [],
   "source": [
    "(dex): "
   ]
  },
  {
   "cell_type": "code",
   "execution_count": null,
   "id": "9a3c2cba",
   "metadata": {},
   "outputs": [],
   "source": []
  },
  {
   "cell_type": "code",
   "execution_count": null,
   "id": "6f4cef9e",
   "metadata": {},
   "outputs": [],
   "source": [
    "  \"ATOM-BNB\": {\n",
    "    \"base_asset\": \"ATOM\",\n",
    "    \"quote_asset\": \"BNB\",\n",
    "    \"symbol\": \"ATOMBNB\",\n",
    "    \"inverted\": false,\n",
    "    \"tick_size\": \"0.00001000\",\n",
    "    \"min_qty\": \"0.01000000\",\n",
    "    \"base_address\": \"0x0Eb3a705fc54725037CC9e008bDede697f62F335\",\n",
    "    \"quote_address\": \"0xbb4CdB9CBd36B01bD1cBaEBF2De08d9173bc095c\",\n",
    "    \"base_decimals\": 18,\n",
    "    \"quote_decimals\": 18,\n",
    "    \"pool\": \"0x468b2DC8DC75990eE3E9dc0648965Ad6294E7914\",\n",
    "    \"pool_inverted\": false\n",
    "  },"
   ]
  },
  {
   "cell_type": "code",
   "execution_count": null,
   "id": "fafef342",
   "metadata": {},
   "outputs": [],
   "source": []
  },
  {
   "cell_type": "code",
   "execution_count": null,
   "id": "a4fd587c",
   "metadata": {},
   "outputs": [],
   "source": [
    "report = {\n",
    "            \"capital\": Decimal(\".1\"),\n",
    "            \"pair\": \"ATOM-BNB\",\n",
    "            \"case\": Case.TWO,\n",
    "            \"steps\": {\n",
    "                \"1. we_got_base\": Decimal(\"26.20427428871115772912023076\"),\n",
    "                \"2. we_received_on_xyk\": Decimal(\"26.20427428871115772912023076\"),\n",
    "                \"3. we_got_quote\": Decimal(\"2.002711259120943062560158335\"),\n",
    "                \"4. output\": Decimal(\"2.002711259120943062560158335\"),\n",
    "            },\n",
    "            \"roc\": Decimal(\"0.001355629560471531280079168\"),\n",
    "        }"
   ]
  },
  {
   "cell_type": "code",
   "execution_count": null,
   "id": "eb5bc4fc",
   "metadata": {},
   "outputs": [],
   "source": []
  },
  {
   "cell_type": "code",
   "execution_count": 16,
   "id": "a5fcd1aa",
   "metadata": {},
   "outputs": [
    {
     "ename": "KeyError",
     "evalue": "'ATOMBNB'",
     "output_type": "error",
     "traceback": [
      "\u001b[0;31m---------------------------------------------------------------------------\u001b[0m",
      "\u001b[0;31mKeyError\u001b[0m                                  Traceback (most recent call last)",
      "\u001b[0;32m/var/folders/92/vrkgk4fd2ldftf34nt8pqpmr0000gn/T/ipykernel_82989/470785445.py\u001b[0m in \u001b[0;36m<module>\u001b[0;34m\u001b[0m\n\u001b[0;32m----> 1\u001b[0;31m \u001b[0mself\u001b[0m\u001b[0;34m.\u001b[0m\u001b[0mdex\u001b[0m\u001b[0;34m.\u001b[0m\u001b[0mreference\u001b[0m\u001b[0;34m[\u001b[0m\u001b[0;34m\"ATOMBNB\"\u001b[0m\u001b[0;34m]\u001b[0m\u001b[0;34m\u001b[0m\u001b[0;34m\u001b[0m\u001b[0m\n\u001b[0m",
      "\u001b[0;31mKeyError\u001b[0m: 'ATOMBNB'"
     ]
    }
   ],
   "source": [
    "self.dex.reference"
   ]
  },
  {
   "cell_type": "code",
   "execution_count": null,
   "id": "0108c580",
   "metadata": {},
   "outputs": [],
   "source": []
  },
  {
   "cell_type": "code",
   "execution_count": null,
   "id": "ba405966",
   "metadata": {},
   "outputs": [],
   "source": []
  },
  {
   "cell_type": "code",
   "execution_count": 8,
   "id": "d5c1d664",
   "metadata": {},
   "outputs": [
    {
     "data": {
      "text/plain": [
       "'WBNB'"
      ]
     },
     "execution_count": 8,
     "metadata": {},
     "output_type": "execute_result"
    }
   ],
   "source": [
    "self.dex.get_token_contract(\"BNB\").functions.symbol().call()"
   ]
  },
  {
   "cell_type": "code",
   "execution_count": 17,
   "id": "5e91b924",
   "metadata": {},
   "outputs": [
    {
     "data": {
      "text/plain": [
       "<tools.pancake.lib.constants.ExecutionReport at 0x7fcfa89c1b20>"
      ]
     },
     "execution_count": 17,
     "metadata": {},
     "output_type": "execute_result"
    }
   ],
   "source": [
    "self.dex.swap(\"BNB\", \"ATOM\", 0.05)"
   ]
  },
  {
   "cell_type": "code",
   "execution_count": null,
   "id": "9de56a2e",
   "metadata": {},
   "outputs": [],
   "source": []
  },
  {
   "cell_type": "code",
   "execution_count": 23,
   "id": "d50a9f51",
   "metadata": {},
   "outputs": [
    {
     "data": {
      "text/plain": [
       "'/Users/mdarblade/code/bhft'"
      ]
     },
     "execution_count": 23,
     "metadata": {},
     "output_type": "execute_result"
    }
   ],
   "source": [
    "pwd"
   ]
  },
  {
   "cell_type": "code",
   "execution_count": 26,
   "id": "4dc26830",
   "metadata": {},
   "outputs": [],
   "source": [
    "import os, json\n",
    "\n",
    "\n",
    "def load_json(filepath):\n",
    "    full_path = os.path.join(f\"tools/pancake/data/bakery/{filepath}\",)\n",
    "    with open(full_path, \"r\") as fp:\n",
    "        return json.load(fp)"
   ]
  },
  {
   "cell_type": "code",
   "execution_count": 27,
   "id": "efd582d8",
   "metadata": {},
   "outputs": [],
   "source": [
    "pair_abi = load_json(\"pair_abi.json\")"
   ]
  },
  {
   "cell_type": "code",
   "execution_count": 31,
   "id": "e3068374",
   "metadata": {},
   "outputs": [],
   "source": [
    "token_abi = load_json(\"token_abi.json\")"
   ]
  },
  {
   "cell_type": "code",
   "execution_count": 40,
   "id": "7afa7f29",
   "metadata": {},
   "outputs": [],
   "source": [
    "pair_contract = self.dex.web3.eth.contract(\n",
    "    address=Web3.toChecksumAddress(\"0x468b2DC8DC75990eE3E9dc0648965Ad6294E7914\"),\n",
    "    abi=pair_abi,\n",
    ")"
   ]
  },
  {
   "cell_type": "code",
   "execution_count": 41,
   "id": "80dd6238",
   "metadata": {},
   "outputs": [
    {
     "data": {
      "text/plain": [
       "('Cosmos Token', 'Wrapped BNB')"
      ]
     },
     "execution_count": 41,
     "metadata": {},
     "output_type": "execute_result"
    }
   ],
   "source": [
    "self.dex.web3.eth.contract(\n",
    "    address=Web3.toChecksumAddress(pair_contract.functions.token0().call()),\n",
    "    abi=pair_abi,\n",
    ").functions.name().call(), self.dex.web3.eth.contract(\n",
    "    address=Web3.toChecksumAddress(pair_contract.functions.token1().call()),\n",
    "    abi=pair_abi,\n",
    ").functions.name().call()"
   ]
  },
  {
   "cell_type": "code",
   "execution_count": 42,
   "id": "ebf44649",
   "metadata": {},
   "outputs": [
    {
     "data": {
      "text/plain": [
       "[12718089635134705281265, 899317908430374012800, 1634315810]"
      ]
     },
     "execution_count": 42,
     "metadata": {},
     "output_type": "execute_result"
    }
   ],
   "source": [
    "pair_contract.functions.getReserves().call()"
   ]
  },
  {
   "cell_type": "code",
   "execution_count": 43,
   "id": "3750c897",
   "metadata": {},
   "outputs": [
    {
     "data": {
      "text/plain": [
       "('12718.09 ATOM', '899.32 BNB')"
      ]
     },
     "execution_count": 43,
     "metadata": {},
     "output_type": "execute_result"
    }
   ],
   "source": [
    "str(round(12718089635134705281265e-18, 2)) + \" ATOM\", str(\n",
    "    round(899317908430374012800e-18, 2)\n",
    ") + \" BNB\""
   ]
  },
  {
   "cell_type": "code",
   "execution_count": null,
   "id": "099d75cd",
   "metadata": {},
   "outputs": [],
   "source": []
  },
  {
   "cell_type": "code",
   "execution_count": null,
   "id": "d7a5bc05",
   "metadata": {},
   "outputs": [],
   "source": []
  },
  {
   "cell_type": "code",
   "execution_count": null,
   "id": "a7556aa4",
   "metadata": {},
   "outputs": [],
   "source": []
  },
  {
   "cell_type": "code",
   "execution_count": null,
   "id": "80023717",
   "metadata": {},
   "outputs": [],
   "source": []
  },
  {
   "cell_type": "code",
   "execution_count": null,
   "id": "fcb72495",
   "metadata": {},
   "outputs": [],
   "source": []
  },
  {
   "cell_type": "code",
   "execution_count": null,
   "id": "d879cb64",
   "metadata": {},
   "outputs": [],
   "source": []
  },
  {
   "cell_type": "code",
   "execution_count": null,
   "id": "bca24f4d",
   "metadata": {},
   "outputs": [],
   "source": []
  },
  {
   "cell_type": "code",
   "execution_count": null,
   "id": "b1f1f391",
   "metadata": {},
   "outputs": [],
   "source": []
  },
  {
   "cell_type": "code",
   "execution_count": null,
   "id": "668cbf8a",
   "metadata": {},
   "outputs": [],
   "source": [
    "self.dex.web3."
   ]
  },
  {
   "cell_type": "code",
   "execution_count": null,
   "id": "7b709db5",
   "metadata": {},
   "outputs": [],
   "source": []
  },
  {
   "cell_type": "code",
   "execution_count": null,
   "id": "0f204025",
   "metadata": {},
   "outputs": [],
   "source": []
  },
  {
   "cell_type": "code",
   "execution_count": null,
   "id": "f55aa701",
   "metadata": {},
   "outputs": [],
   "source": []
  },
  {
   "cell_type": "code",
   "execution_count": null,
   "id": "b3952f7b",
   "metadata": {},
   "outputs": [],
   "source": []
  },
  {
   "cell_type": "code",
   "execution_count": null,
   "id": "ceffa098",
   "metadata": {},
   "outputs": [],
   "source": []
  },
  {
   "cell_type": "code",
   "execution_count": null,
   "id": "edb617c4",
   "metadata": {},
   "outputs": [],
   "source": []
  },
  {
   "cell_type": "code",
   "execution_count": null,
   "id": "6560a12a",
   "metadata": {},
   "outputs": [],
   "source": []
  },
  {
   "cell_type": "code",
   "execution_count": 5,
   "id": "64882158",
   "metadata": {},
   "outputs": [
    {
     "name": "stderr",
     "output_type": "stream",
     "text": [
      "2021-10-15 18:11:41.860 | WARNING  | tools.pancake.lib.execution:execute:118 - Starting execution.\n",
      "2021-10-15 18:11:46.987 | WARNING  | tools.pancake.lib.execution:handle_report:27 - Executed 'Sell base for product on CEX': 2.35 CAKE in 5.13 seconds . Expected: 26.2043 (-9103.2 bp)\n"
     ]
    },
    {
     "ename": "AttributeError",
     "evalue": "'NoneType' object has no attribute 'functions'",
     "output_type": "error",
     "traceback": [
      "\u001b[0;31m---------------------------------------------------------------------------\u001b[0m",
      "\u001b[0;31mAttributeError\u001b[0m                            Traceback (most recent call last)",
      "\u001b[0;32m/var/folders/92/vrkgk4fd2ldftf34nt8pqpmr0000gn/T/ipykernel_82989/2860667010.py\u001b[0m in \u001b[0;36m<module>\u001b[0;34m\u001b[0m\n\u001b[0;32m----> 1\u001b[0;31m \u001b[0mself\u001b[0m\u001b[0;34m.\u001b[0m\u001b[0mtest_report_case_2\u001b[0m\u001b[0;34m(\u001b[0m\u001b[0;34m)\u001b[0m\u001b[0;34m\u001b[0m\u001b[0;34m\u001b[0m\u001b[0m\n\u001b[0m",
      "\u001b[0;32m~/code/bhft/tools/pancake/lib/execution.py\u001b[0m in \u001b[0;36mtest_report_case_2\u001b[0;34m(self)\u001b[0m\n\u001b[1;32m     56\u001b[0m             \u001b[0;34m\"roc\"\u001b[0m\u001b[0;34m:\u001b[0m \u001b[0mDecimal\u001b[0m\u001b[0;34m(\u001b[0m\u001b[0;34m\"0.001355629560471531280079168\"\u001b[0m\u001b[0;34m)\u001b[0m\u001b[0;34m,\u001b[0m\u001b[0;34m\u001b[0m\u001b[0;34m\u001b[0m\u001b[0m\n\u001b[1;32m     57\u001b[0m         }\n\u001b[0;32m---> 58\u001b[0;31m         \u001b[0mself\u001b[0m\u001b[0;34m.\u001b[0m\u001b[0mexecute\u001b[0m\u001b[0;34m(\u001b[0m\u001b[0mreport\u001b[0m\u001b[0;34m)\u001b[0m\u001b[0;34m\u001b[0m\u001b[0;34m\u001b[0m\u001b[0m\n\u001b[0m\u001b[1;32m     59\u001b[0m \u001b[0;34m\u001b[0m\u001b[0m\n\u001b[1;32m     60\u001b[0m     \u001b[0;32mdef\u001b[0m \u001b[0mlocked\u001b[0m\u001b[0;34m(\u001b[0m\u001b[0mself\u001b[0m\u001b[0;34m,\u001b[0m \u001b[0mpair\u001b[0m\u001b[0;34m)\u001b[0m\u001b[0;34m:\u001b[0m\u001b[0;34m\u001b[0m\u001b[0;34m\u001b[0m\u001b[0m\n",
      "\u001b[0;32m~/code/bhft/tools/pancake/lib/execution.py\u001b[0m in \u001b[0;36mexecute\u001b[0;34m(self, report)\u001b[0m\n\u001b[1;32m    161\u001b[0m \u001b[0;34m\u001b[0m\u001b[0m\n\u001b[1;32m    162\u001b[0m             self.handle_report(\n\u001b[0;32m--> 163\u001b[0;31m                 \u001b[0mself\u001b[0m\u001b[0;34m.\u001b[0m\u001b[0mcex\u001b[0m\u001b[0;34m.\u001b[0m\u001b[0mtransfer\u001b[0m\u001b[0;34m(\u001b[0m\u001b[0mtoken_0\u001b[0m\u001b[0;34m,\u001b[0m \u001b[0mself\u001b[0m\u001b[0;34m.\u001b[0m\u001b[0mreports\u001b[0m\u001b[0;34m[\u001b[0m\u001b[0;36m0\u001b[0m\u001b[0;34m]\u001b[0m\u001b[0;34m.\u001b[0m\u001b[0mEXECUTED_QTY\u001b[0m\u001b[0;34m,\u001b[0m \u001b[0mself\u001b[0m\u001b[0;34m.\u001b[0m\u001b[0mdex\u001b[0m\u001b[0;34m)\u001b[0m\u001b[0;34m,\u001b[0m\u001b[0;34m\u001b[0m\u001b[0;34m\u001b[0m\u001b[0m\n\u001b[0m\u001b[1;32m    164\u001b[0m                 \u001b[0mexpected_qty\u001b[0m\u001b[0;34m=\u001b[0m\u001b[0mreport\u001b[0m\u001b[0;34m[\u001b[0m\u001b[0mKEY\u001b[0m\u001b[0;34m.\u001b[0m\u001b[0mSTEPS\u001b[0m\u001b[0;34m]\u001b[0m\u001b[0;34m[\u001b[0m\u001b[0mCASE_2\u001b[0m\u001b[0;34m.\u001b[0m\u001b[0mEXPECTED_STEP_2\u001b[0m\u001b[0;34m]\u001b[0m\u001b[0;34m,\u001b[0m\u001b[0;34m\u001b[0m\u001b[0;34m\u001b[0m\u001b[0m\n\u001b[1;32m    165\u001b[0m                 \u001b[0mstep_name\u001b[0m\u001b[0;34m=\u001b[0m\u001b[0mCASE_2\u001b[0m\u001b[0;34m.\u001b[0m\u001b[0mSTEP_2\u001b[0m\u001b[0;34m,\u001b[0m\u001b[0;34m\u001b[0m\u001b[0;34m\u001b[0m\u001b[0m\n",
      "\u001b[0;32m~/code/bhft/tools/pancake/lib/lib.py\u001b[0m in \u001b[0;36mtimed\u001b[0;34m(*args, **kw)\u001b[0m\n\u001b[1;32m     17\u001b[0m     \u001b[0;32mdef\u001b[0m \u001b[0mtimed\u001b[0m\u001b[0;34m(\u001b[0m\u001b[0;34m*\u001b[0m\u001b[0margs\u001b[0m\u001b[0;34m,\u001b[0m \u001b[0;34m**\u001b[0m\u001b[0mkw\u001b[0m\u001b[0;34m)\u001b[0m\u001b[0;34m:\u001b[0m\u001b[0;34m\u001b[0m\u001b[0;34m\u001b[0m\u001b[0m\n\u001b[1;32m     18\u001b[0m         \u001b[0mtime_start\u001b[0m \u001b[0;34m=\u001b[0m \u001b[0mtime\u001b[0m\u001b[0;34m.\u001b[0m\u001b[0mtime\u001b[0m\u001b[0;34m(\u001b[0m\u001b[0;34m)\u001b[0m\u001b[0;34m\u001b[0m\u001b[0;34m\u001b[0m\u001b[0m\n\u001b[0;32m---> 19\u001b[0;31m         \u001b[0mresult\u001b[0m\u001b[0;34m:\u001b[0m \u001b[0mExecutionReport\u001b[0m \u001b[0;34m=\u001b[0m \u001b[0mmethod\u001b[0m\u001b[0;34m(\u001b[0m\u001b[0;34m*\u001b[0m\u001b[0margs\u001b[0m\u001b[0;34m,\u001b[0m \u001b[0;34m**\u001b[0m\u001b[0mkw\u001b[0m\u001b[0;34m)\u001b[0m\u001b[0;34m\u001b[0m\u001b[0;34m\u001b[0m\u001b[0m\n\u001b[0m\u001b[1;32m     20\u001b[0m         \u001b[0mtime_end\u001b[0m \u001b[0;34m=\u001b[0m \u001b[0mtime\u001b[0m\u001b[0;34m.\u001b[0m\u001b[0mtime\u001b[0m\u001b[0;34m(\u001b[0m\u001b[0;34m)\u001b[0m\u001b[0;34m\u001b[0m\u001b[0;34m\u001b[0m\u001b[0m\n\u001b[1;32m     21\u001b[0m \u001b[0;34m\u001b[0m\u001b[0m\n",
      "\u001b[0;32m~/code/bhft/tools/pancake/lib/cex.py\u001b[0m in \u001b[0;36mtransfer\u001b[0;34m(self, coin, quantity, dex)\u001b[0m\n\u001b[1;32m    401\u001b[0m             \u001b[0;34m(\u001b[0m\u001b[0mExecutionReport\u001b[0m\u001b[0;34m)\u001b[0m \u001b[0mThe\u001b[0m \u001b[0mreport\u001b[0m \u001b[0mabout\u001b[0m \u001b[0mthe\u001b[0m \u001b[0mrun\u001b[0m \u001b[0mof\u001b[0m \u001b[0mthe\u001b[0m \u001b[0mexecution\u001b[0m\u001b[0;34m\u001b[0m\u001b[0;34m\u001b[0m\u001b[0m\n\u001b[1;32m    402\u001b[0m         \"\"\"\n\u001b[0;32m--> 403\u001b[0;31m         \u001b[0mprevious_qty\u001b[0m \u001b[0;34m=\u001b[0m \u001b[0mdex\u001b[0m\u001b[0;34m.\u001b[0m\u001b[0mcheck_balance\u001b[0m\u001b[0;34m(\u001b[0m\u001b[0mcoin\u001b[0m\u001b[0;34m)\u001b[0m\u001b[0;34m\u001b[0m\u001b[0;34m\u001b[0m\u001b[0m\n\u001b[0m\u001b[1;32m    404\u001b[0m \u001b[0;34m\u001b[0m\u001b[0m\n\u001b[1;32m    405\u001b[0m         \u001b[0maddress\u001b[0m \u001b[0;34m=\u001b[0m \u001b[0mdex\u001b[0m\u001b[0;34m.\u001b[0m\u001b[0m_address\u001b[0m\u001b[0;34m\u001b[0m\u001b[0;34m\u001b[0m\u001b[0m\n",
      "\u001b[0;32m~/code/bhft/tools/pancake/lib/dex.py\u001b[0m in \u001b[0;36mcheck_balance\u001b[0;34m(self, coin)\u001b[0m\n\u001b[1;32m    208\u001b[0m         \u001b[0;32melse\u001b[0m\u001b[0;34m:\u001b[0m\u001b[0;34m\u001b[0m\u001b[0;34m\u001b[0m\u001b[0m\n\u001b[1;32m    209\u001b[0m             \u001b[0mtoken_contract\u001b[0m \u001b[0;34m=\u001b[0m \u001b[0mself\u001b[0m\u001b[0;34m.\u001b[0m\u001b[0mget_token_contract\u001b[0m\u001b[0;34m(\u001b[0m\u001b[0mcoin\u001b[0m\u001b[0;34m)\u001b[0m\u001b[0;34m\u001b[0m\u001b[0;34m\u001b[0m\u001b[0m\n\u001b[0;32m--> 210\u001b[0;31m             \u001b[0mdecimal\u001b[0m \u001b[0;34m=\u001b[0m \u001b[0mtoken_contract\u001b[0m\u001b[0;34m.\u001b[0m\u001b[0mfunctions\u001b[0m\u001b[0;34m.\u001b[0m\u001b[0mdecimals\u001b[0m\u001b[0;34m(\u001b[0m\u001b[0;34m)\u001b[0m\u001b[0;34m.\u001b[0m\u001b[0mcall\u001b[0m\u001b[0;34m(\u001b[0m\u001b[0;34m)\u001b[0m\u001b[0;34m\u001b[0m\u001b[0;34m\u001b[0m\u001b[0m\n\u001b[0m\u001b[1;32m    211\u001b[0m \u001b[0;34m\u001b[0m\u001b[0m\n\u001b[1;32m    212\u001b[0m             exact = (\n",
      "\u001b[0;31mAttributeError\u001b[0m: 'NoneType' object has no attribute 'functions'"
     ]
    }
   ],
   "source": [
    "self.test_report_case_2()"
   ]
  },
  {
   "attachments": {
    "4d4d4246-1665-4bef-87ce-19d690577133.png": {
     "image/png": "[encoded data removed]"
    }
   },
   "cell_type": "markdown",
   "id": "57c7e2ba",
   "metadata": {},
   "source": [
    "![image.png](attachment:4d4d4246-1665-4bef-87ce-19d690577133.png)"
   ]
  },
  {
   "cell_type": "code",
   "execution_count": null,
   "id": "6b4c8b03",
   "metadata": {},
   "outputs": [],
   "source": [
    "# Atom -> BNB swap not working"
   ]
  },
  {
   "cell_type": "code",
   "execution_count": null,
   "id": "cd9a6d8d",
   "metadata": {},
   "outputs": [],
   "source": []
  },
  {
   "cell_type": "code",
   "execution_count": 11,
   "id": "fddd74d4",
   "metadata": {},
   "outputs": [],
   "source": [
    "from web3 import Web3\n",
    "import datetime\n",
    "from tools.pancake.lib.constants import CONSTANTS, KEY, ExecutionReport\n",
    "from tools.pancake.lib.venue.pancake import PANCAKE_ROUTER\n",
    "\n",
    "token_from = \"ATOM\"\n",
    "token_to = \"BNB\"\n",
    "\n",
    "amount = 0.5\n",
    "\n",
    "if \"-\".join([token_from, token_to]) in self.dex.reference:\n",
    "    ref = self.dex.reference[\"-\".join([token_from, token_to])]\n",
    "    fromToken, toToken = (\n",
    "        Web3.toChecksumAddress(ref[\"base_address\"]),\n",
    "        Web3.toChecksumAddress(ref[\"quote_address\"]),\n",
    "    )\n",
    "\n",
    "elif \"-\".join([token_to, token_from]) in self.dex.reference:\n",
    "    ref = self.dex.reference[\"-\".join([token_to, token_from])]\n",
    "    fromToken, toToken = (\n",
    "        Web3.toChecksumAddress(ref[\"quote_address\"]),\n",
    "        Web3.toChecksumAddress(ref[\"base_address\"]),\n",
    "    )"
   ]
  },
  {
   "cell_type": "code",
   "execution_count": 12,
   "id": "a438fe71",
   "metadata": {},
   "outputs": [
    {
     "data": {
      "text/plain": [
       "('0x0Eb3a705fc54725037CC9e008bDede697f62F335',\n",
       " '0xbb4CdB9CBd36B01bD1cBaEBF2De08d9173bc095c')"
      ]
     },
     "execution_count": 12,
     "metadata": {},
     "output_type": "execute_result"
    }
   ],
   "source": [
    "fromToken, toToken"
   ]
  },
  {
   "cell_type": "code",
   "execution_count": 13,
   "id": "f0575450",
   "metadata": {},
   "outputs": [],
   "source": [
    "transferAmount = Web3.toWei(amount, \"ether\")\n",
    "amountsOut = self.dex.router.functions.getAmountsOut(\n",
    "    transferAmount, [fromToken, toToken]\n",
    ").call()\n",
    "amountOutMin = amountsOut[1] * (100 - self.dex.slippage_max) / 100\n",
    "deadline = datetime.datetime.now(datetime.timezone.utc).timestamp() + (\n",
    "    CONSTANTS.TIMEOUT_MINUTES * 60\n",
    ")"
   ]
  },
  {
   "cell_type": "code",
   "execution_count": null,
   "id": "81774c50",
   "metadata": {},
   "outputs": [],
   "source": []
  },
  {
   "cell_type": "code",
   "execution_count": 14,
   "id": "47347971",
   "metadata": {},
   "outputs": [
    {
     "data": {
      "text/plain": [
       "AttributeDict({'blockHash': HexBytes('0xc07a288c82aa6c8c8c1d8b1b35d85e245f5e127a6ae90f7f9a72cfd764e317f9'),\n",
       " 'blockNumber': 11798311,\n",
       " 'contractAddress': None,\n",
       " 'cumulativeGasUsed': 11545840,\n",
       " 'from': '0xBBd9D733252C34a6dE99956f225020803ca39154',\n",
       " 'gasUsed': 23237,\n",
       " 'logs': [],\n",
       " 'logsBloom': HexBytes('0x00000000000000000000000000000000000000000000000000000000000000000000000000000000000000000000000000000000000000000000000000000000000000000000000000000000000000000000000000000000000000000000000000000000000000000000000000000000000000000000000000000000000000000000000000000000000000000000000000000000000000000000000000000000000000000000000000000000000000000000000000000000000000000000000000000000000000000000000000000000000000000000000000000000000000000000000000000000000000000000000000000000000000000000000000000000'),\n",
       " 'status': 0,\n",
       " 'to': '0x10ED43C718714eb63d5aA57B78B54704E256024E',\n",
       " 'transactionHash': HexBytes('0x77c403baf475653fd3f90daaee1e15de01b63997b63410133654ff758434c0ba'),\n",
       " 'transactionIndex': 83,\n",
       " 'type': '0x0'})"
      ]
     },
     "execution_count": 14,
     "metadata": {},
     "output_type": "execute_result"
    }
   ],
   "source": [
    "swap_abi = \"\"\n",
    "if token_to == \"BNB\":\n",
    "    swap_abi = self.dex.router.encodeABI(\n",
    "        \"swapExactTokensForTokens\",\n",
    "        args=[\n",
    "            int(transferAmount),\n",
    "            int(amountOutMin),\n",
    "            [fromToken, toToken],\n",
    "            self.dex._address,\n",
    "            int(deadline),\n",
    "        ],\n",
    "    )\n",
    "\n",
    "rawTransaction = {\n",
    "    \"from\": self.dex._address,\n",
    "    \"nonce\": self.dex.web3.toHex(\n",
    "        self.dex.web3.eth.getTransactionCount(self.dex._address)\n",
    "    ),\n",
    "    \"gasPrice\": Web3.toHex(int(self.dex.gas_price * 1e9)),\n",
    "    \"gas\": Web3.toHex(self.dex.gas_limit),\n",
    "    \"to\": PANCAKE_ROUTER,\n",
    "    \"data\": swap_abi,\n",
    "    \"chainId\": hex(56),\n",
    "    \"value\": Web3.toHex(self.dex.gas_limit)\n",
    "    if token_to == \"BNB\"\n",
    "    else Web3.toHex(transferAmount),\n",
    "}\n",
    "\n",
    "rawTransaction\n",
    "\n",
    "signedTx = self.dex.web3.eth.account.sign_transaction(rawTransaction, self.dex._secret)\n",
    "deploy_txn = self.dex.web3.eth.send_raw_transaction(signedTx.rawTransaction)\n",
    "_ = self.dex.web3.eth.wait_for_transaction_receipt(deploy_txn)\n",
    "\n",
    "_"
   ]
  },
  {
   "cell_type": "code",
   "execution_count": null,
   "id": "dbee58f9",
   "metadata": {},
   "outputs": [],
   "source": []
  },
  {
   "cell_type": "code",
   "execution_count": null,
   "id": "d5eb3a4b",
   "metadata": {},
   "outputs": [],
   "source": []
  },
  {
   "cell_type": "code",
   "execution_count": null,
   "id": "37425753",
   "metadata": {},
   "outputs": [],
   "source": []
  },
  {
   "cell_type": "markdown",
   "id": "022c970d",
   "metadata": {},
   "source": [
    "## Market order"
   ]
  },
  {
   "cell_type": "code",
   "execution_count": null,
   "id": "96787dc4",
   "metadata": {},
   "outputs": [],
   "source": [
    "quote_order_quantity = None\n",
    "\n",
    "quantity = int(quantity * 10 ** CONSTANTS.PRECISION) * 10 ** (\n",
    "    -CONSTANTS.PRECISION\n",
    ")\n",
    "\n",
    "if coin_from + coin_to in self.dex.reference:\n",
    "    # base to quote.\n",
    "    market_pair = coin_from + coin_to\n",
    "    quantity *= -1\n",
    "\n",
    "elif coin_to + coin_from in self.dex.reference:\n",
    "    # quote to base\n",
    "    market_pair = coin_to + coin_from\n",
    "    quote_order_quantity = quantity\n",
    "\n",
    "min_qty = self.dex.reference[market_pair][KEY.MIN_QTY]\n",
    "report = ExecutionReport()\n",
    "report.SYMBOL = coin_to\n",
    "\n",
    "original_qty = self.dex.getWallet()[0].get(coin_to, 0)\n",
    "\n",
    "if quote_order_quantity is not None:\n",
    "    quote_order_quantity = math.floor(quote_order_quantity / min_qty) * min_qty\n",
    "    order_id, error = self.dex.Post(\n",
    "        symbol=market_pair, quote_order_quantity=quote_order_quantity\n",
    "    )\n",
    "else:\n",
    "    quantity = math.ceil(quantity / min_qty) * min_qty\n",
    "    order_id, error = self.dex.Post(symbol=market_pair, qty=quantity)\n",
    "\n",
    "if error is not None:\n",
    "    report.SUCCESS = False\n",
    "    report.ERROR_STR = (\n",
    "        f\"Error when posting the order for {round(quantity,2)} \"\n",
    "        f\"of {coin_from} {error}\"\n",
    "    )\n",
    "    return report\n",
    "\n",
    "while True:\n",
    "    status, _ = self.dex.getStatus(order_id)\n",
    "    if status is not None and status[\"status\"] == \"FILLED\":\n",
    "\n",
    "        while True:\n",
    "            new_qty, _ = self.dex.getWallet()\n",
    "            if new_qty is not None and new_qty[coin_to] != original_qty:\n",
    "                executed_qty = new_qty[coin_to] - original_qty\n",
    "                report.EXECUTED_QTY = executed_qty\n",
    "                return report\n",
    "\n",
    "            time.sleep(CONSTANTS.TIME_DELAY / 2)\n",
    "\n",
    "    time.sleep(CONSTANTS.TIME_DELAY / 2)"
   ]
  },
  {
   "cell_type": "code",
   "execution_count": null,
   "id": "e092c36b",
   "metadata": {},
   "outputs": [],
   "source": []
  },
  {
   "cell_type": "code",
   "execution_count": null,
   "id": "395b86ea",
   "metadata": {},
   "outputs": [],
   "source": []
  },
  {
   "cell_type": "code",
   "execution_count": null,
   "id": "51cf09ab",
   "metadata": {},
   "outputs": [],
   "source": []
  },
  {
   "cell_type": "code",
   "execution_count": null,
   "id": "e8784851",
   "metadata": {},
   "outputs": [],
   "source": []
  },
  {
   "cell_type": "code",
   "execution_count": null,
   "id": "0f9e0a29",
   "metadata": {},
   "outputs": [],
   "source": []
  },
  {
   "cell_type": "code",
   "execution_count": null,
   "id": "59c3f625",
   "metadata": {},
   "outputs": [],
   "source": []
  },
  {
   "cell_type": "code",
   "execution_count": null,
   "id": "77c28646",
   "metadata": {},
   "outputs": [],
   "source": []
  },
  {
   "cell_type": "code",
   "execution_count": null,
   "id": "4281456e",
   "metadata": {},
   "outputs": [],
   "source": []
  },
  {
   "cell_type": "code",
   "execution_count": null,
   "id": "4a1e6bb7",
   "metadata": {},
   "outputs": [],
   "source": []
  },
  {
   "cell_type": "code",
   "execution_count": null,
   "id": "1e51de57",
   "metadata": {},
   "outputs": [],
   "source": []
  },
  {
   "cell_type": "code",
   "execution_count": null,
   "id": "57c7358e",
   "metadata": {},
   "outputs": [],
   "source": []
  },
  {
   "cell_type": "code",
   "execution_count": null,
   "id": "bcd9646b",
   "metadata": {},
   "outputs": [],
   "source": []
  },
  {
   "cell_type": "code",
   "execution_count": null,
   "id": "d31bdab2",
   "metadata": {},
   "outputs": [],
   "source": []
  },
  {
   "cell_type": "code",
   "execution_count": null,
   "id": "fd791578",
   "metadata": {},
   "outputs": [],
   "source": []
  },
  {
   "cell_type": "code",
   "execution_count": 44,
   "id": "b912210e",
   "metadata": {},
   "outputs": [],
   "source": [
    "dex = self.dex"
   ]
  },
  {
   "cell_type": "code",
   "execution_count": 47,
   "id": "0daf9440",
   "metadata": {},
   "outputs": [],
   "source": [
    "w3 = dex.web3"
   ]
  },
  {
   "cell_type": "code",
   "execution_count": 48,
   "id": "9bd08a18",
   "metadata": {},
   "outputs": [],
   "source": [
    "router_abi = load_json(\"router_abi.json\")\n",
    "factory_abi = load_json(\"factory_abi.json\")\n",
    "pair_abi = load_json(\"pair_abi.json\")\n",
    "token_abi = load_json(\"token_abi.json\")"
   ]
  },
  {
   "cell_type": "code",
   "execution_count": null,
   "id": "3cbda5ad",
   "metadata": {},
   "outputs": [],
   "source": []
  },
  {
   "cell_type": "code",
   "execution_count": 49,
   "id": "4ef90e5d",
   "metadata": {},
   "outputs": [],
   "source": [
    "router_contract = w3.eth.contract(\n",
    "    address=w3.toChecksumAddress(PANCAKE_ROUTER), abi=router_abi\n",
    ")"
   ]
  },
  {
   "cell_type": "code",
   "execution_count": 52,
   "id": "0f456606",
   "metadata": {},
   "outputs": [],
   "source": [
    "factory_contract = w3.eth.contract(\n",
    "    address=w3.toChecksumAddress(router_contract.functions.factory().call()),\n",
    "    abi=factory_abi,\n",
    ")"
   ]
  },
  {
   "cell_type": "code",
   "execution_count": 53,
   "id": "955b7aec",
   "metadata": {},
   "outputs": [
    {
     "data": {
      "text/plain": [
       "471754"
      ]
     },
     "execution_count": 53,
     "metadata": {},
     "output_type": "execute_result"
    }
   ],
   "source": [
    "factory_contract.functions.allPairsLength().call()"
   ]
  },
  {
   "cell_type": "code",
   "execution_count": null,
   "id": "153585f4",
   "metadata": {},
   "outputs": [],
   "source": []
  },
  {
   "cell_type": "code",
   "execution_count": null,
   "id": "4d0676db",
   "metadata": {},
   "outputs": [],
   "source": []
  },
  {
   "cell_type": "code",
   "execution_count": null,
   "id": "24d60dc2",
   "metadata": {},
   "outputs": [],
   "source": []
  },
  {
   "cell_type": "code",
   "execution_count": 54,
   "id": "f93e4b5a",
   "metadata": {},
   "outputs": [
    {
     "data": {
      "text/plain": [
       "'0x468b2DC8DC75990eE3E9dc0648965Ad6294E7914'"
      ]
     },
     "execution_count": 54,
     "metadata": {},
     "output_type": "execute_result"
    }
   ],
   "source": [
    "factory_contract.functions.getPair(\n",
    "    \"0x0Eb3a705fc54725037CC9e008bDede697f62F335\",\n",
    "    \"0xbb4CdB9CBd36B01bD1cBaEBF2De08d9173bc095c\",\n",
    ").call()"
   ]
  },
  {
   "cell_type": "code",
   "execution_count": 56,
   "id": "6957d95f",
   "metadata": {},
   "outputs": [],
   "source": [
    "pair_contract = w3.eth.contract(\n",
    "    address=w3.toChecksumAddress(\"0x468b2DC8DC75990eE3E9dc0648965Ad6294E7914\"),\n",
    "    abi=pair_abi,\n",
    ")"
   ]
  },
  {
   "cell_type": "code",
   "execution_count": 63,
   "id": "d0a15acd",
   "metadata": {},
   "outputs": [
    {
     "data": {
      "text/plain": [
       "'0x1D2F0da169ceB9fC7B3144628dB156f3F6c60dBE'"
      ]
     },
     "execution_count": 63,
     "metadata": {},
     "output_type": "execute_result"
    }
   ],
   "source": [
    "pair_contract.functions.token0().call()"
   ]
  },
  {
   "cell_type": "code",
   "execution_count": 64,
   "id": "0a599535",
   "metadata": {},
   "outputs": [
    {
     "data": {
      "text/plain": [
       "'Cake-LP'"
      ]
     },
     "execution_count": 64,
     "metadata": {},
     "output_type": "execute_result"
    }
   ],
   "source": [
    "pair_contract.functions.symbol().call()"
   ]
  },
  {
   "cell_type": "code",
   "execution_count": null,
   "id": "cc82e4fa",
   "metadata": {},
   "outputs": [],
   "source": []
  },
  {
   "cell_type": "code",
   "execution_count": 62,
   "id": "e067cbc5",
   "metadata": {},
   "outputs": [],
   "source": [
    "pair_contract = w3.eth.contract(\n",
    "    address=w3.toChecksumAddress(\"0x03F18135c44C64ebFdCBad8297fe5bDafdBbdd86\"),\n",
    "    abi=pair_abi,\n",
    ")"
   ]
  },
  {
   "cell_type": "code",
   "execution_count": null,
   "id": "2924a0f5",
   "metadata": {},
   "outputs": [],
   "source": []
  },
  {
   "cell_type": "code",
   "execution_count": null,
   "id": "0c610a7e",
   "metadata": {},
   "outputs": [],
   "source": []
  },
  {
   "cell_type": "code",
   "execution_count": null,
   "id": "be756f23",
   "metadata": {},
   "outputs": [],
   "source": []
  },
  {
   "cell_type": "code",
   "execution_count": null,
   "id": "7ca8931e",
   "metadata": {},
   "outputs": [],
   "source": []
  },
  {
   "cell_type": "code",
   "execution_count": null,
   "id": "e0232261",
   "metadata": {},
   "outputs": [],
   "source": []
  },
  {
   "cell_type": "code",
   "execution_count": null,
   "id": "0883bb5c",
   "metadata": {},
   "outputs": [],
   "source": []
  },
  {
   "cell_type": "code",
   "execution_count": null,
   "id": "7e4d62ee",
   "metadata": {},
   "outputs": [],
   "source": []
  },
  {
   "cell_type": "code",
   "execution_count": null,
   "id": "6cc6beb9",
   "metadata": {},
   "outputs": [],
   "source": []
  },
  {
   "cell_type": "code",
   "execution_count": null,
   "id": "5eca9deb",
   "metadata": {},
   "outputs": [],
   "source": []
  },
  {
   "cell_type": "code",
   "execution_count": null,
   "id": "95b38ade",
   "metadata": {},
   "outputs": [],
   "source": []
  },
  {
   "cell_type": "code",
   "execution_count": null,
   "id": "11072b1f",
   "metadata": {},
   "outputs": [],
   "source": []
  },
  {
   "cell_type": "code",
   "execution_count": null,
   "id": "13d1a9e4",
   "metadata": {},
   "outputs": [],
   "source": []
  },
  {
   "cell_type": "code",
   "execution_count": null,
   "id": "01ad106f",
   "metadata": {},
   "outputs": [],
   "source": []
  },
  {
   "cell_type": "code",
   "execution_count": null,
   "id": "def1edd8",
   "metadata": {},
   "outputs": [],
   "source": []
  },
  {
   "cell_type": "code",
   "execution_count": null,
   "id": "ac24c0a4",
   "metadata": {},
   "outputs": [],
   "source": []
  },
  {
   "cell_type": "code",
   "execution_count": null,
   "id": "c55be321",
   "metadata": {},
   "outputs": [],
   "source": []
  },
  {
   "cell_type": "code",
   "execution_count": null,
   "id": "a93b06e2",
   "metadata": {},
   "outputs": [],
   "source": []
  },
  {
   "cell_type": "code",
   "execution_count": null,
   "id": "6c7e74cc",
   "metadata": {},
   "outputs": [],
   "source": []
  },
  {
   "cell_type": "code",
   "execution_count": null,
   "id": "50777939",
   "metadata": {},
   "outputs": [],
   "source": []
  },
  {
   "cell_type": "code",
   "execution_count": null,
   "id": "fc2eb8fa",
   "metadata": {},
   "outputs": [],
   "source": []
  },
  {
   "cell_type": "code",
   "execution_count": null,
   "id": "c4012552",
   "metadata": {},
   "outputs": [],
   "source": []
  },
  {
   "cell_type": "code",
   "execution_count": null,
   "id": "39763746",
   "metadata": {},
   "outputs": [],
   "source": []
  },
  {
   "cell_type": "code",
   "execution_count": null,
   "id": "06386ebe",
   "metadata": {},
   "outputs": [],
   "source": []
  },
  {
   "cell_type": "code",
   "execution_count": null,
   "id": "7e71ca55",
   "metadata": {},
   "outputs": [],
   "source": []
  },
  {
   "cell_type": "code",
   "execution_count": null,
   "id": "ab882d98",
   "metadata": {},
   "outputs": [],
   "source": []
  },
  {
   "cell_type": "code",
   "execution_count": null,
   "id": "d5a05bec",
   "metadata": {},
   "outputs": [],
   "source": []
  },
  {
   "cell_type": "code",
   "execution_count": null,
   "id": "50139aef",
   "metadata": {},
   "outputs": [],
   "source": []
  }
 ],
 "metadata": {
  "kernelspec": {
   "display_name": "bhft",
   "language": "python",
   "name": "bhft"
  },
  "language_info": {
   "codemirror_mode": {
    "name": "ipython",
    "version": 3
   },
   "file_extension": ".py",
   "mimetype": "text/x-python",
   "name": "python",
   "nbconvert_exporter": "python",
   "pygments_lexer": "ipython3",
   "version": "3.8.2"
  }
 },
 "nbformat": 4,
 "nbformat_minor": 5
}
